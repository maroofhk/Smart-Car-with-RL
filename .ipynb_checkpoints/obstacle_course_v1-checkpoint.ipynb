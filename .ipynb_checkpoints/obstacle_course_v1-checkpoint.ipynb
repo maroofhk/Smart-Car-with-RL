{
 "cells": [
  {
   "cell_type": "markdown",
   "metadata": {},
   "source": [
    "- Make and empty string state and show bread crumbs\n",
    "    - [done] Make matrix showing wall, pos and neg states\n",
    "    - Recreate statesAvailable, that is states that are not the wall, pos or neg states\n",
    " "
   ]
  },
  {
   "cell_type": "code",
   "execution_count": 1,
   "metadata": {
    "collapsed": true
   },
   "outputs": [],
   "source": [
    "import numpy as np\n",
    "import random\n",
    "\n",
    "from sklearn.externals import joblib"
   ]
  },
  {
   "cell_type": "code",
   "execution_count": 2,
   "metadata": {
    "collapsed": false
   },
   "outputs": [],
   "source": [
    "q_matrix_load = joblib.load('qMatrix_7by7_ver2.pkl')"
   ]
  },
  {
   "cell_type": "code",
   "execution_count": 3,
   "metadata": {
    "collapsed": false
   },
   "outputs": [
    {
     "data": {
      "text/plain": [
       "array([[ -1,   0,  -1,   0],\n",
       "       [ -1,   5,   0,   5],\n",
       "       [ -1,   0,   0,  10],\n",
       "       [ -1, -29,   5,  16],\n",
       "       [ -1,  23,  10,  23],\n",
       "       [ -1,  31,  16, -29],\n",
       "       [ -1,  23,  23,  -1],\n",
       "       [  0, -41,  -1,   5],\n",
       "       [  0,  10,   0,   0],\n",
       "       [  5, -29,   5, -29],\n",
       "       [ 10,  23,   0,  23],\n",
       "       [ 16, -14, -29,  31],\n",
       "       [ 23,  39,  23,  23],\n",
       "       [-29,  31,  31,  -1],\n",
       "       [  0,  10,  -1,  10],\n",
       "       [  5,  16, -41, -29],\n",
       "       [  0,  23,  10,  23],\n",
       "       [-29,  31, -29, -14],\n",
       "       [ 23,  39,  23,  39],\n",
       "       [ 31,  48, -14,  31],\n",
       "       [ 23,  -6,  39,  -1],\n",
       "       [-41,   5,  -1,  16],\n",
       "       [ 10,  10,  10,  23],\n",
       "       [-29, -14,  16,  31],\n",
       "       [ 23,  39,  23,  39],\n",
       "       [-14,  -1,  31,  48],\n",
       "       [ 39,  58,  39,  -6],\n",
       "       [ 31,  48,  48,  -1],\n",
       "       [ 10,   0,  -1,  10],\n",
       "       [ 16,   5,   5, -14],\n",
       "       [ 23,  -6,  10,  39],\n",
       "       [ 31,  48, -14,  -1],\n",
       "       [ 20,  -1,  30,  58],\n",
       "       [ 48,  69,  -1,  48],\n",
       "       [ -6, -96,  58,  -1],\n",
       "       [  5, -46,  -1,   5],\n",
       "       [ 10,   0,   0,  -6],\n",
       "       [-14,  -1,   5,  48],\n",
       "       [ 39,  58,  -6,   8],\n",
       "       [ -1,  69,  48,  69],\n",
       "       [ 58,  82,   8, -96],\n",
       "       [  0,   0,   0,  -1],\n",
       "       [  0,  -1,  -1,   0],\n",
       "       [  5,  -1, -46,  -1],\n",
       "       [-14,  -1,   0,  58],\n",
       "       [ 48,  -1,  -1,  69],\n",
       "       [ -1,  -1,  58,  82],\n",
       "       [ 69,  -1,  69,  96],\n",
       "       [  0,  -1,   0,  -1]])"
      ]
     },
     "execution_count": 3,
     "metadata": {},
     "output_type": "execute_result"
    }
   ],
   "source": [
    "q_matrix_load"
   ]
  },
  {
   "cell_type": "code",
   "execution_count": 4,
   "metadata": {
    "collapsed": true
   },
   "outputs": [],
   "source": [
    "posNegWall_load = joblib.load('posNegWallState_7by7_ver2.pkl')"
   ]
  },
  {
   "cell_type": "code",
   "execution_count": 5,
   "metadata": {
    "collapsed": false
   },
   "outputs": [
    {
     "data": {
      "text/plain": [
       "((6, 6),\n",
       " (5, 6),\n",
       " [(1, 3),\n",
       "  (5, 4),\n",
       "  (2, 4),\n",
       "  (2, 0),\n",
       "  (5, 2),\n",
       "  (4, 4),\n",
       "  (2, 2),\n",
       "  (6, 2),\n",
       "  (6, 0),\n",
       "  (4, 2),\n",
       "  (0, 6),\n",
       "  (3, 6)])"
      ]
     },
     "execution_count": 5,
     "metadata": {},
     "output_type": "execute_result"
    }
   ],
   "source": [
    "posState, negState, wallStateMatrix = posNegWall_load\n",
    "posState, negState, wallStateMatrix"
   ]
  },
  {
   "cell_type": "code",
   "execution_count": 6,
   "metadata": {
    "collapsed": true
   },
   "outputs": [],
   "source": [
    "num_rows = 7\n",
    "num_cols = 7\n",
    "col_max = num_cols - 1\n",
    "row_max = num_rows - 1\n",
    "\n",
    "def makeMoveMatrix(q_matrix):\n",
    "    \n",
    "    actionAbbr = ['U','D','L','R']\n",
    "    movementGrid = []\n",
    "\n",
    "    for i in range(row_max+1):\n",
    "        #x = q_matrix[i*5 : i*5+5].flatten()\n",
    "        x = q_matrix[i*num_rows : i*num_rows+num_rows].flatten()\n",
    "        row = []\n",
    "        for j in range(col_max+1):\n",
    "            row.append(actionAbbr[np.argmax(x[j*4:j*4+4])])\n",
    "        movementGrid.append(row)\n",
    "    moveMatrix = np.array(movementGrid)\n",
    "    \n",
    "    #putting in the wall, pos and neg states\n",
    "    for wallState in wallStateMatrix:\n",
    "        moveMatrix[wallState] = 'X'\n",
    "    moveMatrix[posState] = '+'\n",
    "    moveMatrix[negState] = '-'\n",
    "    \n",
    "    return moveMatrix"
   ]
  },
  {
   "cell_type": "code",
   "execution_count": 7,
   "metadata": {
    "collapsed": false,
    "scrolled": true
   },
   "outputs": [
    {
     "data": {
      "text/plain": [
       "array([['D', 'D', 'R', 'R', 'D', 'D', 'X'],\n",
       "       ['R', 'D', 'U', 'X', 'R', 'D', 'D'],\n",
       "       ['X', 'D', 'X', 'D', 'X', 'D', 'L'],\n",
       "       ['R', 'R', 'R', 'D', 'R', 'D', 'X'],\n",
       "       ['U', 'U', 'X', 'D', 'X', 'D', 'L'],\n",
       "       ['U', 'U', 'X', 'D', 'X', 'D', '-'],\n",
       "       ['X', 'U', 'X', 'R', 'R', 'R', '+']], \n",
       "      dtype='<U1')"
      ]
     },
     "execution_count": 7,
     "metadata": {},
     "output_type": "execute_result"
    }
   ],
   "source": [
    "moveMatrix = makeMoveMatrix(q_matrix_load)\n",
    "moveMatrix"
   ]
  },
  {
   "cell_type": "code",
   "execution_count": 8,
   "metadata": {
    "collapsed": false
   },
   "outputs": [
    {
     "data": {
      "text/plain": [
       "array(['D', 'D', 'R', 'R', 'D', 'D', 'X'], \n",
       "      dtype='<U1')"
      ]
     },
     "execution_count": 8,
     "metadata": {},
     "output_type": "execute_result"
    }
   ],
   "source": [
    "moveMatrix[0]"
   ]
  },
  {
   "cell_type": "code",
   "execution_count": 9,
   "metadata": {
    "collapsed": false
   },
   "outputs": [
    {
     "data": {
      "text/plain": [
       "array([[' ', ' ', ' ', ' ', ' ', ' ', 'X'],\n",
       "       [' ', ' ', ' ', 'X', ' ', ' ', ' '],\n",
       "       ['X', ' ', 'X', ' ', 'X', ' ', ' '],\n",
       "       [' ', ' ', ' ', ' ', ' ', ' ', 'X'],\n",
       "       [' ', ' ', 'X', ' ', 'X', ' ', ' '],\n",
       "       [' ', ' ', 'X', ' ', 'X', ' ', '-'],\n",
       "       ['X', ' ', 'X', ' ', ' ', ' ', '+']], \n",
       "      dtype='<U1')"
      ]
     },
     "execution_count": 9,
     "metadata": {},
     "output_type": "execute_result"
    }
   ],
   "source": [
    "def createTrail():\n",
    "    emptyStrRow = [' ']*num_cols\n",
    "    trailLst = []\n",
    "    for _ in range(7):\n",
    "        trailLst.append(emptyStrRow)\n",
    "    \n",
    "    trail = np.array(trailLst)\n",
    "    \n",
    "    for wallState in wallStateMatrix:\n",
    "        trail[wallState[0], wallState[1]] = 'X'\n",
    "    trail[posState[0], posState[1]] = '+'\n",
    "    trail[negState[0], negState[1]] = '-'\n",
    "    \n",
    "    return trail\n",
    "    \n",
    "createTrail()"
   ]
  },
  {
   "cell_type": "markdown",
   "metadata": {},
   "source": [
    "Recreating the whole state space"
   ]
  },
  {
   "cell_type": "code",
   "execution_count": 10,
   "metadata": {
    "collapsed": false
   },
   "outputs": [
    {
     "data": {
      "text/plain": [
       "49"
      ]
     },
     "execution_count": 10,
     "metadata": {},
     "output_type": "execute_result"
    }
   ],
   "source": [
    "states = []\n",
    "\n",
    "for i in range(num_rows):\n",
    "    for j in range(num_cols):\n",
    "        states.append((i,j))\n",
    "\n",
    "len(states)"
   ]
  },
  {
   "cell_type": "code",
   "execution_count": 11,
   "metadata": {
    "collapsed": false
   },
   "outputs": [
    {
     "data": {
      "text/plain": [
       "(5, 6)"
      ]
     },
     "execution_count": 11,
     "metadata": {},
     "output_type": "execute_result"
    }
   ],
   "source": [
    "availableState = states[:]\n",
    "for wallState in wallStateMatrix:\n",
    "    availableState.pop(availableState.index(wallState))\n",
    "    \n",
    "availableState.pop(availableState.index(posState))\n",
    "availableState.pop(availableState.index(negState))"
   ]
  },
  {
   "cell_type": "code",
   "execution_count": 12,
   "metadata": {
    "collapsed": false
   },
   "outputs": [
    {
     "data": {
      "text/plain": [
       "(array([[' ', ' ', ' ', ' ', ' ', ' ', 'X'],\n",
       "        [' ', ' ', ' ', 'X', ' ', ' ', ' '],\n",
       "        ['X', ' ', 'X', ' ', 'X', ' ', ' '],\n",
       "        ['@', '*', '*', '*', ' ', ' ', 'X'],\n",
       "        [' ', ' ', 'X', '*', 'X', ' ', ' '],\n",
       "        [' ', ' ', 'X', '*', 'X', ' ', '-'],\n",
       "        ['X', ' ', 'X', '*', '*', '*', '+']], \n",
       "       dtype='<U1'),\n",
       " [(3, 0),\n",
       "  (3, 1),\n",
       "  (3, 2),\n",
       "  (3, 3),\n",
       "  (4, 3),\n",
       "  (5, 3),\n",
       "  (6, 3),\n",
       "  (6, 4),\n",
       "  (6, 5),\n",
       "  (6, 6)])"
      ]
     },
     "execution_count": 12,
     "metadata": {},
     "output_type": "execute_result"
    }
   ],
   "source": [
    "def breadcrumb(moveMatrix):\n",
    "    \n",
    "    trail = createTrail() \n",
    "    state = availableState[np.random.choice(len(availableState))]\n",
    "    trail[state] = '@'\n",
    "    breadCrumb = [state]\n",
    "    while state != posState:\n",
    "        direction = moveMatrix[state]\n",
    "        if direction == 'U': state = (state[0]-1, state[1])\n",
    "        if direction == 'D': state = (state[0]+1, state[1])\n",
    "        if direction == 'L': state = (state[0], state[1]-1)\n",
    "        if direction == 'R': state = (state[0], state[1]+1)\n",
    "        \n",
    "        breadCrumb.append(state)\n",
    "    \n",
    "    for element in breadCrumb[1:-1]:\n",
    "        trail[element] = '*'\n",
    "        \n",
    "    return trail, breadCrumb\n",
    "\n",
    "breadcrumb(moveMatrix) "
   ]
  },
  {
   "cell_type": "markdown",
   "metadata": {},
   "source": [
    "## Pygame sample"
   ]
  },
  {
   "cell_type": "markdown",
   "metadata": {},
   "source": [
    "#### Note that running will mean that closing program will kill the kernel"
   ]
  },
  {
   "cell_type": "code",
   "execution_count": 13,
   "metadata": {
    "collapsed": false
   },
   "outputs": [
    {
     "ename": "TypeError",
     "evalue": "game_loop() missing 1 required positional argument: 'state'",
     "output_type": "error",
     "traceback": [
      "\u001b[1;31m---------------------------------------------------------------------------\u001b[0m",
      "\u001b[1;31mTypeError\u001b[0m                                 Traceback (most recent call last)",
      "\u001b[1;32m<ipython-input-13-b214731a7910>\u001b[0m in \u001b[0;36m<module>\u001b[1;34m()\u001b[0m\n\u001b[0;32m    138\u001b[0m         \u001b[0mclock\u001b[0m\u001b[1;33m.\u001b[0m\u001b[0mtick\u001b[0m\u001b[1;33m(\u001b[0m\u001b[1;36m1\u001b[0m\u001b[1;33m)\u001b[0m \u001b[1;31m#number is frames/sec\u001b[0m\u001b[1;33m\u001b[0m\u001b[0m\n\u001b[0;32m    139\u001b[0m \u001b[1;33m\u001b[0m\u001b[0m\n\u001b[1;32m--> 140\u001b[1;33m \u001b[0mgame_loop\u001b[0m\u001b[1;33m(\u001b[0m\u001b[1;33m(\u001b[0m\u001b[1;36m5\u001b[0m\u001b[1;33m,\u001b[0m\u001b[1;36m3\u001b[0m\u001b[1;33m)\u001b[0m\u001b[1;33m)\u001b[0m\u001b[1;33m\u001b[0m\u001b[0m\n\u001b[0m\u001b[0;32m    141\u001b[0m \u001b[0mgame_loop\u001b[0m\u001b[1;33m(\u001b[0m\u001b[1;33m)\u001b[0m\u001b[1;33m\u001b[0m\u001b[0m\n\u001b[0;32m    142\u001b[0m \u001b[0mpygame\u001b[0m\u001b[1;33m.\u001b[0m\u001b[0mquit\u001b[0m\u001b[1;33m(\u001b[0m\u001b[1;33m)\u001b[0m  \u001b[1;31m# quit pygame\u001b[0m\u001b[1;33m\u001b[0m\u001b[0m\n",
      "\u001b[1;32m<ipython-input-13-b214731a7910>\u001b[0m in \u001b[0;36mgame_loop\u001b[1;34m(state)\u001b[0m\n\u001b[0;32m    132\u001b[0m \u001b[1;33m\u001b[0m\u001b[0m\n\u001b[0;32m    133\u001b[0m         \u001b[1;32mif\u001b[0m \u001b[1;33m(\u001b[0m\u001b[0mx\u001b[0m \u001b[1;33m>\u001b[0m \u001b[0mdisplay_width\u001b[0m \u001b[1;33m-\u001b[0m \u001b[1;36m100\u001b[0m\u001b[1;33m)\u001b[0m \u001b[1;32mor\u001b[0m \u001b[1;33m(\u001b[0m\u001b[0mx\u001b[0m \u001b[1;33m<\u001b[0m \u001b[1;36m0\u001b[0m\u001b[1;33m)\u001b[0m\u001b[1;33m:\u001b[0m\u001b[1;33m\u001b[0m\u001b[0m\n\u001b[1;32m--> 134\u001b[1;33m             \u001b[0mcrash\u001b[0m\u001b[1;33m(\u001b[0m\u001b[1;33m)\u001b[0m\u001b[1;33m\u001b[0m\u001b[0m\n\u001b[0m\u001b[0;32m    135\u001b[0m \u001b[1;33m\u001b[0m\u001b[0m\n\u001b[0;32m    136\u001b[0m         \u001b[0mpygame\u001b[0m\u001b[1;33m.\u001b[0m\u001b[0mdisplay\u001b[0m\u001b[1;33m.\u001b[0m\u001b[0mupdate\u001b[0m\u001b[1;33m(\u001b[0m\u001b[1;33m)\u001b[0m\u001b[1;33m\u001b[0m\u001b[0m\n",
      "\u001b[1;32m<ipython-input-13-b214731a7910>\u001b[0m in \u001b[0;36mcrash\u001b[1;34m()\u001b[0m\n\u001b[0;32m     59\u001b[0m \u001b[1;33m\u001b[0m\u001b[0m\n\u001b[0;32m     60\u001b[0m \u001b[1;32mdef\u001b[0m \u001b[0mcrash\u001b[0m\u001b[1;33m(\u001b[0m\u001b[1;33m)\u001b[0m\u001b[1;33m:\u001b[0m\u001b[1;33m\u001b[0m\u001b[0m\n\u001b[1;32m---> 61\u001b[1;33m     \u001b[0mmessage_display\u001b[0m\u001b[1;33m(\u001b[0m\u001b[1;34m'You crashed'\u001b[0m\u001b[1;33m)\u001b[0m\u001b[1;33m\u001b[0m\u001b[0m\n\u001b[0m\u001b[0;32m     62\u001b[0m \u001b[1;33m\u001b[0m\u001b[0m\n\u001b[0;32m     63\u001b[0m \u001b[1;32mdef\u001b[0m \u001b[0mconvertState\u001b[0m\u001b[1;33m(\u001b[0m\u001b[0mstate\u001b[0m\u001b[1;33m)\u001b[0m\u001b[1;33m:\u001b[0m\u001b[1;33m\u001b[0m\u001b[0m\n",
      "\u001b[1;32m<ipython-input-13-b214731a7910>\u001b[0m in \u001b[0;36mmessage_display\u001b[1;34m(text)\u001b[0m\n\u001b[0;32m     56\u001b[0m \u001b[1;33m\u001b[0m\u001b[0m\n\u001b[0;32m     57\u001b[0m     \u001b[1;31m#restart the game\u001b[0m\u001b[1;33m\u001b[0m\u001b[1;33m\u001b[0m\u001b[0m\n\u001b[1;32m---> 58\u001b[1;33m     \u001b[0mgame_loop\u001b[0m\u001b[1;33m(\u001b[0m\u001b[1;33m)\u001b[0m\u001b[1;33m\u001b[0m\u001b[0m\n\u001b[0m\u001b[0;32m     59\u001b[0m \u001b[1;33m\u001b[0m\u001b[0m\n\u001b[0;32m     60\u001b[0m \u001b[1;32mdef\u001b[0m \u001b[0mcrash\u001b[0m\u001b[1;33m(\u001b[0m\u001b[1;33m)\u001b[0m\u001b[1;33m:\u001b[0m\u001b[1;33m\u001b[0m\u001b[0m\n",
      "\u001b[1;31mTypeError\u001b[0m: game_loop() missing 1 required positional argument: 'state'"
     ]
    }
   ],
   "source": [
    "'''\n",
    "a. Based on the sentdex pygame tutorial on youtube\n",
    " - https://www.youtube.com/watch?v=xh4SV3kF-zk&index=3&list=PLQVvvaa0QuDdLkP8MrOXLe_rKuf6r80KO\n",
    " - title: Game Development in Python 3 With PyGame - 4 - Adding Boundaries\n",
    " - by: sentdex\n",
    "\n",
    "1) tested out how to get a rectangle to be displayed in test1.py and using it here [https://www.youtube.com/watch?v=9-oS50C4B6Y]\n",
    "\n",
    "'''\n",
    "\n",
    "import pygame\n",
    "from pygame.locals import *\n",
    "import time\n",
    "\n",
    "# initialize\n",
    "pygame.init()\n",
    "\n",
    "display_width = 700\n",
    "display_height = 700\n",
    "\n",
    "black = (0,0,0)\n",
    "white = (255,255,255)\n",
    "red = (230,50,50)\n",
    "\n",
    "up_angle = 90\n",
    "right_angle = 0\n",
    "left_angle = 180\n",
    "down_angle = 270\n",
    "\n",
    "# tuple is width,height\n",
    "gameDisplay = pygame.display.set_mode((display_width,display_height))\n",
    "pygame.display.set_caption('A bit Racey')\n",
    "\n",
    "clock = pygame.time.Clock()\n",
    "\n",
    "carImage = pygame.image.load('images/car-red.png')\n",
    "\n",
    "def car(x,y, angle):\n",
    "    carImageRotated = pygame.transform.rotate(carImage, angle)\n",
    "    gameDisplay.blit(carImageRotated,(x,y))\n",
    "\n",
    "def text_objects(text, font):\n",
    "    textSurface = font.render(text, True, black)\n",
    "    return textSurface, textSurface.get_rect()\n",
    "\n",
    "def message_display(text):\n",
    "    largeText = pygame.font.Font('freesansbold.ttf', 115)\n",
    "    # text surface and rectangular containing the text\n",
    "    TextSurf, TextRect = text_objects(text, largeText)\n",
    "    TextRect.center = ((display_width/2),(display_height/2))\n",
    "    gameDisplay.blit(TextSurf, TextRect)\n",
    "\n",
    "    pygame.display.update()\n",
    "    \n",
    "    time.sleep(2)\n",
    "\n",
    "    #restart the game\n",
    "    game_loop()\n",
    "    \n",
    "def crash():\n",
    "    message_display('You crashed')\n",
    "    \n",
    "def convertState(state):\n",
    "    x_state, y_state = state\n",
    "    x = y_state * 100\n",
    "    y = x_state * 100\n",
    "\n",
    "    return x,y\n",
    "    \n",
    "def game_loop(state):\n",
    "    \n",
    "    x, y = convertState(state)\n",
    "    \n",
    "    angle = right_angle\n",
    "    x_list = [0,100,100,100,100,0  ,0]\n",
    "    y_list = [0,0  ,0  ,0  ,0  ,100,100]\n",
    "    angle_list = [right_angle,\n",
    "                  right_angle,\n",
    "                  right_angle,\n",
    "                  right_angle,\n",
    "                  right_angle,\n",
    "                  down_angle,\n",
    "                  down_angle,\n",
    "                  ]\n",
    "\n",
    "    coord_delta = [(0,0), (100,0), (100,0), (100,0), (100,0), (0,100), (0,100)]\n",
    "    counter = 0\n",
    "\n",
    "    gameExit = False\n",
    "\n",
    "    while not gameExit:\n",
    "\n",
    "        # we put all events in this loop\n",
    "        for event in pygame.event.get():\n",
    "            if event.type == pygame.QUIT:\n",
    "                #gameExit = True\n",
    "                pygame.quit()\n",
    "                quit()\n",
    " \n",
    "        pressed = pygame.key.get_pressed()\n",
    "        if pressed[pygame.K_LEFT] and (x > -5):\n",
    "            x -= 10\n",
    "            angle = left_angle\n",
    "        if pressed[pygame.K_RIGHT]  and (x < display_width - 90):\n",
    "            x += 10\n",
    "            angle = right_angle\n",
    "        if pressed[pygame.K_UP] and (y>0):\n",
    "            y -= 10\n",
    "            angle = up_angle\n",
    "        if pressed[pygame.K_DOWN] and (y < display_height):\n",
    "            y+=10\n",
    "            angle = down_angle\n",
    "\n",
    "        gameDisplay.fill(white)\n",
    "        \n",
    "        if counter < 7:\n",
    "            x += coord_delta[counter][0]\n",
    "            y += coord_delta[counter][1]\n",
    "            angle = angle_list[counter]\n",
    "            counter += 1\n",
    "        else:\n",
    "            counter = 0\n",
    "            x = 0\n",
    "            y = 0\n",
    "            angle = right_angle\n",
    "            \n",
    "        time.sleep(1)\n",
    "        car(x,y,angle)\n",
    "\n",
    "        # just drawing a rectangle\n",
    "        pygame.draw.rect(gameDisplay, red, Rect((0,600),(100,700)))\n",
    "\n",
    "        if (x > display_width - 100) or (x < 0):\n",
    "            crash()\n",
    "        \n",
    "        pygame.display.update()\n",
    "\n",
    "        clock.tick(1) #number is frames/sec\n",
    "\n",
    "game_loop((5,3))\n",
    "game_loop()\n",
    "pygame.quit()  # quit pygame\n",
    "quit()         # quit idle "
   ]
  },
  {
   "cell_type": "code",
   "execution_count": null,
   "metadata": {
    "collapsed": true
   },
   "outputs": [],
   "source": []
  }
 ],
 "metadata": {
  "kernelspec": {
   "display_name": "Python 3",
   "language": "python",
   "name": "python3"
  },
  "language_info": {
   "codemirror_mode": {
    "name": "ipython",
    "version": 3
   },
   "file_extension": ".py",
   "mimetype": "text/x-python",
   "name": "python",
   "nbconvert_exporter": "python",
   "pygments_lexer": "ipython3",
   "version": "3.4.3"
  }
 },
 "nbformat": 4,
 "nbformat_minor": 0
}
