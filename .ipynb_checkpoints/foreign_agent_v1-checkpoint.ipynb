{
 "cells": [
  {
   "cell_type": "markdown",
   "metadata": {},
   "source": [
    "1. Given a state, get values for states [up,down,left,right] from it\n",
    "2. change the row numbers"
   ]
  },
  {
   "cell_type": "code",
   "execution_count": 1,
   "metadata": {
    "collapsed": true
   },
   "outputs": [],
   "source": [
    "import numpy as np\n",
    "import random\n",
    "\n",
    "from sklearn.externals import joblib"
   ]
  },
  {
   "cell_type": "code",
   "execution_count": 2,
   "metadata": {
    "collapsed": false
   },
   "outputs": [],
   "source": [
    "q_matrix_load = joblib.load('qMatrix_7by7_ver2.pkl')"
   ]
  },
  {
   "cell_type": "code",
   "execution_count": 3,
   "metadata": {
    "collapsed": false
   },
   "outputs": [
    {
     "data": {
      "text/plain": [
       "array([[ -1,   0,  -1,   0],\n",
       "       [ -1,   5,   0,   5],\n",
       "       [ -1,   0,   0,  10],\n",
       "       [ -1, -29,   5,  16],\n",
       "       [ -1,  23,  10,  23],\n",
       "       [ -1,  31,  16, -29],\n",
       "       [ -1,  23,  23,  -1],\n",
       "       [  0, -41,  -1,   5],\n",
       "       [  0,  10,   0,   0],\n",
       "       [  5, -29,   5, -29],\n",
       "       [ 10,  23,   0,  23],\n",
       "       [ 16, -14, -29,  31],\n",
       "       [ 23,  39,  23,  23],\n",
       "       [-29,  31,  31,  -1],\n",
       "       [  0,  10,  -1,  10],\n",
       "       [  5,  16, -41, -29],\n",
       "       [  0,  23,  10,  23],\n",
       "       [-29,  31, -29, -14],\n",
       "       [ 23,  39,  23,  39],\n",
       "       [ 31,  48, -14,  31],\n",
       "       [ 23,  -6,  39,  -1],\n",
       "       [-41,   5,  -1,  16],\n",
       "       [ 10,  10,  10,  23],\n",
       "       [-29, -14,  16,  31],\n",
       "       [ 23,  39,  23,  39],\n",
       "       [-14,  -1,  31,  48],\n",
       "       [ 39,  58,  39,  -6],\n",
       "       [ 31,  48,  48,  -1],\n",
       "       [ 10,   0,  -1,  10],\n",
       "       [ 16,   5,   5, -14],\n",
       "       [ 23,  -6,  10,  39],\n",
       "       [ 31,  48, -14,  -1],\n",
       "       [ 20,  -1,  30,  58],\n",
       "       [ 48,  69,  -1,  48],\n",
       "       [ -6, -96,  58,  -1],\n",
       "       [  5, -46,  -1,   5],\n",
       "       [ 10,   0,   0,  -6],\n",
       "       [-14,  -1,   5,  48],\n",
       "       [ 39,  58,  -6,   8],\n",
       "       [ -1,  69,  48,  69],\n",
       "       [ 58,  82,   8, -96],\n",
       "       [  0,   0,   0,  -1],\n",
       "       [  0,  -1,  -1,   0],\n",
       "       [  5,  -1, -46,  -1],\n",
       "       [-14,  -1,   0,  58],\n",
       "       [ 48,  -1,  -1,  69],\n",
       "       [ -1,  -1,  58,  82],\n",
       "       [ 69,  -1,  69,  96],\n",
       "       [  0,  -1,   0,  -1]])"
      ]
     },
     "execution_count": 3,
     "metadata": {},
     "output_type": "execute_result"
    }
   ],
   "source": [
    "q_matrix_load"
   ]
  },
  {
   "cell_type": "code",
   "execution_count": 4,
   "metadata": {
    "collapsed": true
   },
   "outputs": [],
   "source": [
    "posNegWall_load = joblib.load('posNegWallState_7by7_ver2.pkl')"
   ]
  },
  {
   "cell_type": "code",
   "execution_count": 5,
   "metadata": {
    "collapsed": false
   },
   "outputs": [
    {
     "data": {
      "text/plain": [
       "((6, 6),\n",
       " (5, 6),\n",
       " [(1, 3),\n",
       "  (5, 4),\n",
       "  (2, 4),\n",
       "  (2, 0),\n",
       "  (5, 2),\n",
       "  (4, 4),\n",
       "  (2, 2),\n",
       "  (6, 2),\n",
       "  (6, 0),\n",
       "  (4, 2),\n",
       "  (0, 6),\n",
       "  (3, 6)])"
      ]
     },
     "execution_count": 5,
     "metadata": {},
     "output_type": "execute_result"
    }
   ],
   "source": [
    "posState, negState, wallStateMatrix = posNegWall_load\n",
    "posState, negState, wallStateMatrix"
   ]
  },
  {
   "cell_type": "code",
   "execution_count": 6,
   "metadata": {
    "collapsed": true
   },
   "outputs": [],
   "source": [
    "num_rows = 7\n",
    "num_cols = 7\n",
    "col_max = num_cols - 1\n",
    "row_max = num_rows - 1\n",
    "\n",
    "def makeMoveMatrix(q_matrix):\n",
    "    \n",
    "    actionAbbr = ['U','D','L','R']\n",
    "    movementGrid = []\n",
    "\n",
    "    for i in range(row_max+1):\n",
    "        #x = q_matrix[i*5 : i*5+5].flatten()\n",
    "        x = q_matrix[i*num_rows : i*num_rows+num_rows].flatten()\n",
    "        row = []\n",
    "        for j in range(col_max+1):\n",
    "            row.append(actionAbbr[np.argmax(x[j*4:j*4+4])])\n",
    "        movementGrid.append(row)\n",
    "    moveMatrix = np.array(movementGrid)\n",
    "    \n",
    "    #putting in the wall, pos and neg states\n",
    "    for wallState in wallStateMatrix:\n",
    "        moveMatrix[wallState] = 'X'\n",
    "    moveMatrix[posState] = '+'\n",
    "    moveMatrix[negState] = '-'\n",
    "    \n",
    "    return moveMatrix"
   ]
  },
  {
   "cell_type": "code",
   "execution_count": 7,
   "metadata": {
    "collapsed": false
   },
   "outputs": [
    {
     "data": {
      "text/plain": [
       "array([['D', 'D', 'R', 'R', 'D', 'D', 'X'],\n",
       "       ['R', 'D', 'U', 'X', 'R', 'D', 'D'],\n",
       "       ['X', 'D', 'X', 'D', 'X', 'D', 'L'],\n",
       "       ['R', 'R', 'R', 'D', 'R', 'D', 'X'],\n",
       "       ['U', 'U', 'X', 'D', 'X', 'D', 'L'],\n",
       "       ['U', 'U', 'X', 'D', 'X', 'D', '-'],\n",
       "       ['X', 'U', 'X', 'R', 'R', 'R', '+']], \n",
       "      dtype='<U1')"
      ]
     },
     "execution_count": 7,
     "metadata": {},
     "output_type": "execute_result"
    }
   ],
   "source": [
    "moveMatrix = makeMoveMatrix(q_matrix_load)\n",
    "moveMatrix"
   ]
  },
  {
   "cell_type": "code",
   "execution_count": 8,
   "metadata": {
    "collapsed": false
   },
   "outputs": [
    {
     "data": {
      "text/plain": [
       "array(['D', 'D', 'R', 'R', 'D', 'D', 'X'], \n",
       "      dtype='<U1')"
      ]
     },
     "execution_count": 8,
     "metadata": {},
     "output_type": "execute_result"
    }
   ],
   "source": [
    "moveMatrix[0]"
   ]
  },
  {
   "cell_type": "code",
   "execution_count": 9,
   "metadata": {
    "collapsed": false
   },
   "outputs": [],
   "source": [
    "qMinValue = np.min(q_matrix_load)\n",
    "police = [qMinValue]*4"
   ]
  },
  {
   "cell_type": "code",
   "execution_count": 10,
   "metadata": {
    "collapsed": false
   },
   "outputs": [
    {
     "data": {
      "text/plain": [
       "[-96, -96, -96, -96]"
      ]
     },
     "execution_count": 10,
     "metadata": {},
     "output_type": "execute_result"
    }
   ],
   "source": [
    "police"
   ]
  },
  {
   "cell_type": "code",
   "execution_count": 11,
   "metadata": {
    "collapsed": false
   },
   "outputs": [
    {
     "data": {
      "text/plain": [
       "array([[ -1,   0,  -1,   0],\n",
       "       [ -1,   5,   0,   5],\n",
       "       [ -1,   0,   0,  10],\n",
       "       [ -1, -29,   5,  16],\n",
       "       [ -1,  23,  10,  23]])"
      ]
     },
     "execution_count": 11,
     "metadata": {},
     "output_type": "execute_result"
    }
   ],
   "source": [
    "q_matrix_load[:5]"
   ]
  },
  {
   "cell_type": "code",
   "execution_count": 19,
   "metadata": {
    "collapsed": false
   },
   "outputs": [
    {
     "name": "stdout",
     "output_type": "stream",
     "text": [
      "index - state at index - q_matrix row num - q_matrix row\n",
      "0 - (0, 0) - 0 - [-1  0 -1  0]\n",
      "1 - (2, 0) - 14 - [ 0 10 -1 10]\n",
      "3 - (1, 1) - 8 - [ 0 10  0  0]\n"
     ]
    },
    {
     "data": {
      "text/plain": [
       "array([['R', 'D', 'R', 'R', 'D', 'D', 'X'],\n",
       "       ['R', 'D', 'U', 'X', 'R', 'D', 'D'],\n",
       "       ['X', 'D', 'X', 'D', 'X', 'D', 'L'],\n",
       "       ['R', 'R', 'R', 'D', 'R', 'D', 'X'],\n",
       "       ['U', 'U', 'X', 'D', 'X', 'D', 'L'],\n",
       "       ['U', 'U', 'X', 'D', 'X', 'D', '-'],\n",
       "       ['X', 'U', 'X', 'R', 'R', 'R', '+']], \n",
       "      dtype='<U1')"
      ]
     },
     "execution_count": 19,
     "metadata": {},
     "output_type": "execute_result"
    }
   ],
   "source": [
    "row_max = 6\n",
    "col_max = 6\n",
    "\n",
    "def actionsAvailable(state, row_max, col_max):\n",
    "    row, col = state\n",
    "    directions = [-1,-1,-1,-1]\n",
    "    if row < row_max: directions[1] = 0\n",
    "    if row > 0: directions[0] = 0\n",
    "    if col < col_max: directions[3] = 0\n",
    "    if col > 0: directions[2] = 0\n",
    "    return directions\n",
    "\n",
    "actionsAvailable((5,0),num_rows-1,num_cols-1)\n",
    "\n",
    "def get_qMatrix_rowNum(state):\n",
    "    return int((col_max + 1)*state[0] + state[1])\n",
    "\n",
    "def neighbourStates(state):\n",
    "    '''\n",
    "    - Depending on 'state' we will get the one [above_it, below_it, left_of_it, on_its_right]\n",
    "    - if no such state exists we will get -1\n",
    "    - example:\n",
    "      neighbourStates((0,0)) ==> [-1, (1, 0), -1, (0, 1)]\n",
    "    '''\n",
    "    neighbours = actionsAvailable(state, row_max, col_max)\n",
    "    if neighbours[0] != -1:\n",
    "        neighbours[0] = (state[0]-1, state[1])\n",
    "    if neighbours[1] != -1:\n",
    "        neighbours[1] = (state[0]+1, state[1])\n",
    "    if neighbours[2] != -1:\n",
    "        neighbours[2] = (state[0], state[1]-1)\n",
    "    if neighbours[3] != -1:\n",
    "        neighbours[3] = (state[0], state[1]+1)\n",
    "    \n",
    "    return neighbours\n",
    "\n",
    "def update_qMatrix(state, q_matrix):\n",
    "    q_temp = np.array(q_matrix, copy=True) \n",
    "    actionIndex = [1,0,3,2]\n",
    "    policeNeighbours = neighbourStates(state)\n",
    "    print('index - state at index - q_matrix row num - q_matrix row')\n",
    "    for index, val in enumerate(policeNeighbours):\n",
    "        if val != -1:\n",
    "            q_matrix_row = get_qMatrix_rowNum(val)\n",
    "            q_temp[q_matrix_row, actionIndex[index]] = np.min(q_temp)\n",
    "            print(index, '-', val, '-', get_qMatrix_rowNum(val), '-', q_matrix[get_qMatrix_rowNum(val)])\n",
    "            \n",
    "    return q_temp\n",
    "\n",
    "new_q_matrix = update_qMatrix((1,0), q_matrix_load)\n",
    "moveMatrix2 = makeMoveMatrix(new_q_matrix)\n",
    "moveMatrix2"
   ]
  },
  {
   "cell_type": "code",
   "execution_count": null,
   "metadata": {
    "collapsed": true
   },
   "outputs": [],
   "source": [
    "1. police placement: good example is to put police in (1,1)\n",
    "2. police placement: "
   ]
  }
 ],
 "metadata": {
  "kernelspec": {
   "display_name": "Python 3",
   "language": "python",
   "name": "python3"
  },
  "language_info": {
   "codemirror_mode": {
    "name": "ipython",
    "version": 3
   },
   "file_extension": ".py",
   "mimetype": "text/x-python",
   "name": "python",
   "nbconvert_exporter": "python",
   "pygments_lexer": "ipython3",
   "version": "3.4.3"
  }
 },
 "nbformat": 4,
 "nbformat_minor": 0
}
