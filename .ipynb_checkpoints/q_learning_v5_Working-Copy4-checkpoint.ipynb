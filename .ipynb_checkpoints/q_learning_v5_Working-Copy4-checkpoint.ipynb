{
 "cells": [
  {
   "cell_type": "markdown",
   "metadata": {},
   "source": [
    "Note: this is going to be an space with no walls so that we can have multiple opportunity to move car"
   ]
  },
  {
   "cell_type": "code",
   "execution_count": 1,
   "metadata": {
    "collapsed": true
   },
   "outputs": [],
   "source": [
    "import numpy as np\n",
    "import random\n",
    "\n",
    "from sklearn.externals import joblib"
   ]
  },
  {
   "cell_type": "markdown",
   "metadata": {},
   "source": [
    "In the gridworld we have only 4 possible actions"
   ]
  },
  {
   "cell_type": "code",
   "execution_count": 2,
   "metadata": {
    "collapsed": false
   },
   "outputs": [
    {
     "data": {
      "text/plain": [
       "[0, 1, 2, 3]"
      ]
     },
     "execution_count": 2,
     "metadata": {},
     "output_type": "execute_result"
    }
   ],
   "source": [
    "actions = ['up','down','left','right']\n",
    "actionNum = [index for index, _ in enumerate(actions)]\n",
    "\n",
    "# actionNum encodes: up, down, left and right as 0, 1, 2 and 3 respectively.\n",
    "actionNum"
   ]
  },
  {
   "cell_type": "markdown",
   "metadata": {},
   "source": [
    "Let us consider the gridworld. And let it be a 4 by 4 pixaleted world"
   ]
  },
  {
   "cell_type": "code",
   "execution_count": 3,
   "metadata": {
    "collapsed": false
   },
   "outputs": [
    {
     "data": {
      "text/plain": [
       "81"
      ]
     },
     "execution_count": 3,
     "metadata": {},
     "output_type": "execute_result"
    }
   ],
   "source": [
    "# our states will be 16 set of tuples \n",
    "num_rows = 9\n",
    "num_cols = 9\n",
    "\n",
    "row_max = num_rows - 1\n",
    "col_max = num_cols - 1\n",
    "\n",
    "epsilon = 0.5\n",
    "alpha = 0.3\n",
    "gamma = 0.9\n",
    "\n",
    "states = []\n",
    "\n",
    "for i in range(num_rows):\n",
    "    for j in range(num_cols):\n",
    "        states.append((i,j))\n",
    "        \n",
    "len(states)"
   ]
  },
  {
   "cell_type": "code",
   "execution_count": 4,
   "metadata": {
    "collapsed": false
   },
   "outputs": [
    {
     "name": "stdout",
     "output_type": "stream",
     "text": [
      "[(1, 1), (1, 3), (1, 5), (1, 7), (3, 1), (3, 3), (3, 5), (3, 7), (5, 1), (5, 3), (5, 5), (5, 7), (7, 1), (7, 3), (7, 5)] (7, 7) (8, 8) 64\n"
     ]
    }
   ],
   "source": [
    "statesAvailable = states[:]\n",
    "\n",
    "negState = (row_max-1, col_max-1)\n",
    "statesAvailable.pop(statesAvailable.index(negState))\n",
    "\n",
    "posState = (row_max, col_max)\n",
    "statesAvailable.pop(statesAvailable.index(posState))\n",
    "\n",
    "wallStateMatrix = []\n",
    "for i in [1,3,5,7]:\n",
    "    for j in [1,3,5,7]:\n",
    "        if (i,j) != (7,7):\n",
    "            wallState = (i,j)\n",
    "            statesAvailable.pop(statesAvailable.index(wallState))\n",
    "            wallStateMatrix.append(wallState)\n",
    "            \n",
    "print(wallStateMatrix, negState, posState, len(statesAvailable))"
   ]
  },
  {
   "cell_type": "code",
   "execution_count": 5,
   "metadata": {
    "collapsed": false
   },
   "outputs": [
    {
     "data": {
      "text/plain": [
       "array([[   0,    0,    0,    0,    0,    0,    0,    0,    0],\n",
       "       [   0, -150,    0, -150,    0, -150,    0, -150,    0],\n",
       "       [   0,    0,    0,    0,    0,    0,    0,    0,    0],\n",
       "       [   0, -150,    0, -150,    0, -150,    0, -150,    0],\n",
       "       [   0,    0,    0,    0,    0,    0,    0,    0,    0],\n",
       "       [   0, -150,    0, -150,    0, -150,    0, -150,    0],\n",
       "       [   0,    0,    0,    0,    0,    0,    0,    0,    0],\n",
       "       [   0, -150,    0, -150,    0, -150,    0, -100,    0],\n",
       "       [   0,    0,    0,    0,    0,    0,    0,    0,  100]])"
      ]
     },
     "execution_count": 5,
     "metadata": {},
     "output_type": "execute_result"
    }
   ],
   "source": [
    "# now that we have wall, pos and negative states defined\n",
    "# we are going to create and update the reward matrix\n",
    "# -------------- just going to put pos and neg states\n",
    "r_matrix = np.zeros((num_rows, num_cols), dtype=np.int)\n",
    "for wallState in wallStateMatrix:\n",
    "    r_matrix[wallState] = -150\n",
    "    \n",
    "r_matrix[posState] = 100\n",
    "r_matrix[negState] = -100\n",
    "\n",
    "r_matrix"
   ]
  },
  {
   "cell_type": "code",
   "execution_count": 6,
   "metadata": {
    "collapsed": false
   },
   "outputs": [
    {
     "data": {
      "text/plain": [
       "[0, 0, -1, 0]"
      ]
     },
     "execution_count": 6,
     "metadata": {},
     "output_type": "execute_result"
    }
   ],
   "source": [
    "# given coordinate and grid size it will tell if [up,down,left,right]\n",
    "# is available\n",
    "def actionsAvailable(state, row_max, col_max):\n",
    "    row, col = state\n",
    "    # directions = [up,down,left,right]\n",
    "    # initialize direction -1 implies cant move to stated direction\n",
    "    directions = [-1,-1,-1,-1] \n",
    "    if row < row_max: directions[1] = 0\n",
    "    if row > 0: directions[0] = 0\n",
    "    if col < col_max: directions[3] = 0\n",
    "    if col > 0: directions[2] = 0\n",
    "    return directions\n",
    "\n",
    "actionsAvailable((5,0),num_rows-1,num_cols-1)"
   ]
  },
  {
   "cell_type": "markdown",
   "metadata": {},
   "source": [
    "Here is the equation that will be used:\n",
    "\n",
    "Q(S_t,A_t) = Q(S_t,A_t) + alpha X [R_t+1 + gamma X max{Q(S_t+1,A_t+1)}-Q(S_t,A_t)]\n",
    "\n",
    "- some things to be congnicent off:\n",
    "1. R_t+1 is the reward for the state that you are going to\n"
   ]
  },
  {
   "cell_type": "code",
   "execution_count": 7,
   "metadata": {
    "collapsed": false
   },
   "outputs": [],
   "source": [
    "# we are going to update q_matrix by putting -1 where we can't go\n",
    "def initializeQMatrix(states, row_max, col_max):\n",
    "    q_matrix = np.zeros((len(states),len(actionNum)), dtype=np.int)\n",
    "    for state in states:\n",
    "        qRowNum = int((col_max + 1)*state[0] + state[1])\n",
    "        q_matrix[qRowNum] = actionsAvailable(state,row_max, col_max)\n",
    "        \n",
    "    return q_matrix\n",
    "    \n",
    "def getIndices(q):\n",
    "    indexList = []\n",
    "    for index,val in enumerate(q):\n",
    "        if val != -1:\n",
    "            indexList.append(index)\n",
    "    chooseActionIndex = np.random.choice(indexList)\n",
    "    return chooseActionIndex\n",
    "\n",
    "def choose_action(state, row_max, col_max):\n",
    "    '''\n",
    "    1. given state get its row number [qRowNum]\n",
    "    2. for qRowNum get all column items (remember columnms signify up,down,left, right in that order)\n",
    "    3. find max value amongnst all column(action) elements [qMax]\n",
    "    4. get indices in from q where column elements == qMax [indices]\n",
    "    5. random choice on any element in 'indices'\n",
    "    '''\n",
    "    qRowNum = int((col_max + 1)*state[0] + state[1]) # get the row number of q-matrix\n",
    "    q = list(q_matrix[qRowNum]) # one state - four action\n",
    "    \n",
    "    # exploration phase where we randomly choose any direction that is not -1 (out of grid bounds)\n",
    "    if random.random() < epsilon:\n",
    "        chooseActionIndex = getIndices(q)\n",
    "    \n",
    "    # exploitation phase, take existing rewards and do with max\n",
    "    else:\n",
    "        qMax = np.max(q)\n",
    "        indices = np.argwhere(q == qMax)\n",
    "        chooseActionIndex = np.random.choice(indices.flatten('F'))\n",
    "    return chooseActionIndex\n",
    "\n",
    "# now that we know the action to take (from choose_action)\n",
    "# get state where action leads us\n",
    "def stateTo(state, actionTaken):\n",
    "    row, col = state\n",
    "    if actionTaken == 0: row -= 1\n",
    "    if actionTaken == 1: row += 1\n",
    "    if actionTaken == 2: col -= 1\n",
    "    if actionTaken == 3: col += 1\n",
    "        \n",
    "    return row,col\n",
    "\n",
    "# Now get reward in this state\n",
    "def getReward(state):\n",
    "    return r_matrix[state[0], state[1]]\n",
    "\n",
    "# def updateQMatrix(state, actionChosen, row_max, reward):\n",
    "#     qRowNum = int((16/(row_max + 1))*state[0] + state[1])\n",
    "#     q_matrix[qRowNum, actionChosen] = reward\n",
    "#     return q_matrix\n",
    "\n",
    "def updateQMatrix(state, actionChosen, stateSentTo, col_max, reward, alpha, gamma):\n",
    "    \n",
    "    # getting previous q value\n",
    "    qRowNum = int((col_max + 1)*state[0] + state[1])\n",
    "    old_q = q_matrix[qRowNum, actionChosen]\n",
    "    \n",
    "    # getting best action from new q value\n",
    "    qRowNum_latest_state = int((col_max + 1)*stateSentTo[0] + stateSentTo[1])\n",
    "    q = list(q_matrix[qRowNum_latest_state])\n",
    "    \n",
    "    #--- new section\n",
    "    new_q = []\n",
    "    for val in q:\n",
    "        if val != -1:\n",
    "            new_q.append(val)\n",
    "    qMax = np.max(new_q)\n",
    "    #--- new section\n",
    "    \n",
    "    indices = np.argwhere(q == qMax)\n",
    "    chooseActionIndex = np.random.choice(indices.flatten('F'))\n",
    "    \n",
    "    latest_q = q_matrix[qRowNum_latest_state, chooseActionIndex]\n",
    "    q_matrix[qRowNum,actionChosen] = old_q + alpha*(reward + (gamma * latest_q) - old_q)\n",
    "    \n",
    "    return q_matrix"
   ]
  },
  {
   "cell_type": "code",
   "execution_count": 8,
   "metadata": {
    "collapsed": false
   },
   "outputs": [],
   "source": [
    "q_matrix = initializeQMatrix(states, row_max, col_max)\n",
    "\n",
    "def process_qMatrix(state):\n",
    "    \n",
    "    while (state != posState) and (state != negState):\n",
    "        actionChosen = choose_action(state, row_max, col_max)\n",
    "        stateSentTo = stateTo(state, actionChosen)\n",
    "        rewardInNewState = getReward(stateSentTo)\n",
    "        #updateQMatrix(state, actionChosen, stateSentTo, row_max, reward, alpha, gamma):\n",
    "        updateQMatrix(state, actionChosen, stateSentTo, col_max, rewardInNewState, alpha, gamma)\n",
    "\n",
    "        #print('start state: ', state)\n",
    "        #print('action taken: ', actionChosen)\n",
    "        #print('Action takes us to this state: ', stateSentTo)\n",
    "        #print('Reward at state we are in: ', rewardInNewState)\n",
    "        #print('Q matrix: ', q_matrix)\n",
    "        \n",
    "        state = stateSentTo"
   ]
  },
  {
   "cell_type": "code",
   "execution_count": 9,
   "metadata": {
    "collapsed": false
   },
   "outputs": [],
   "source": [
    "q_matrix = initializeQMatrix(states, row_max, col_max)\n",
    "for _ in range(500000):\n",
    "    stateIndex = np.random.choice(len(statesAvailable))\n",
    "    process_qMatrix(statesAvailable[stateIndex])"
   ]
  },
  {
   "cell_type": "code",
   "execution_count": 10,
   "metadata": {
    "collapsed": false
   },
   "outputs": [
    {
     "name": "stdout",
     "output_type": "stream",
     "text": [
      "moveMatrix: \n",
      " [['D' 'R' 'D' 'R' 'D' 'R' 'D' 'R' 'D']\n",
      " ['D' 'X' 'D' 'X' 'D' 'X' 'D' 'X' 'D']\n",
      " ['D' 'R' 'D' 'R' 'D' 'R' 'D' 'R' 'D']\n",
      " ['D' 'X' 'D' 'X' 'D' 'X' 'D' 'X' 'D']\n",
      " ['D' 'R' 'D' 'R' 'D' 'R' 'D' 'R' 'D']\n",
      " ['D' 'X' 'D' 'X' 'D' 'X' 'D' 'X' 'D']\n",
      " ['D' 'R' 'D' 'R' 'D' 'R' 'D' 'R' 'D']\n",
      " ['D' 'X' 'D' 'X' 'D' 'X' 'D' '-' 'D']\n",
      " ['R' 'R' 'R' 'R' 'R' 'R' 'R' 'R' '+']]\n"
     ]
    }
   ],
   "source": [
    "def makeMoveMatrix(q_matrix):\n",
    "    \n",
    "    actionAbbr = ['U','D','L','R']\n",
    "    movementGrid = []\n",
    "\n",
    "    for i in range(row_max+1):\n",
    "        #x = q_matrix[i*5 : i*5+5].flatten()\n",
    "        x = q_matrix[i*num_rows : i*num_rows+num_rows].flatten()\n",
    "        row = []\n",
    "        for j in range(col_max+1):\n",
    "            row.append(actionAbbr[np.argmax(x[j*4:j*4+4])])\n",
    "        movementGrid.append(row)\n",
    "    moveMatrix = np.array(movementGrid)\n",
    "    \n",
    "    #putting in the wall, pos and neg states\n",
    "    for wallState in wallStateMatrix:\n",
    "        moveMatrix[wallState] = 'X'\n",
    "    moveMatrix[posState] = '+'\n",
    "    moveMatrix[negState] = '-'\n",
    "    \n",
    "    return moveMatrix\n",
    "        \n",
    "\n",
    "moveMatrix = makeMoveMatrix(q_matrix)\n",
    "\n",
    "print('moveMatrix: \\n', moveMatrix)"
   ]
  },
  {
   "cell_type": "code",
   "execution_count": 11,
   "metadata": {
    "collapsed": false
   },
   "outputs": [
    {
     "data": {
      "text/plain": [
       "array([[  -1,    0,   -1,    0],\n",
       "       [  -1, -146,    0,    1],\n",
       "       [  -1,    4,    0,    4],\n",
       "       [  -1, -139,    1,    8],\n",
       "       [  -1,   12,    4,   12],\n",
       "       [  -1, -131,    8,   16],\n",
       "       [  -1,   21,   12,   21],\n",
       "       [  -1, -121,   16,   26],\n",
       "       [  -1,   32,   21,   -1],\n",
       "       [   0,    1,   -1, -146],\n",
       "       [   0,    4,    0,    4],\n",
       "       [   1,    8, -146, -139],\n",
       "       [   4,   12,    4,   12],\n",
       "       [   8,   16, -139, -131],\n",
       "       [  12,   21,   12,   21],\n",
       "       [  16,   26, -131, -121],\n",
       "       [  21,   32,   21,   32],\n",
       "       [  26,   39, -121,   -1],\n",
       "       [   0,    4,   -1,    4],\n",
       "       [-146, -139,    1,    8],\n",
       "       [   4,   12,    4,   12],\n",
       "       [-139, -131,    8,   16],\n",
       "       [  12,   21,   12,   21],\n",
       "       [-131, -121,   16,   26],\n",
       "       [  21,   32,   21,   32],\n",
       "       [-121, -108,   26,   39],\n",
       "       [  32,   46,   32,   -1],\n",
       "       [   1,    8,   -1, -139],\n",
       "       [   4,   12,    4,   12],\n",
       "       [   8,   16, -139, -131],\n",
       "       [  12,   21,   12,   21],\n",
       "       [  16,   26, -131, -121],\n",
       "       [  21,   32,   21,   32],\n",
       "       [  26,   39, -121, -108],\n",
       "       [  32,   46,   32,   46],\n",
       "       [  39,   54, -108,   -1],\n",
       "       [   4,   12,   -1,   12],\n",
       "       [-139, -131,    8,   16],\n",
       "       [  12,   21,   12,   21],\n",
       "       [-131, -121,   16,   26],\n",
       "       [  21,   32,   21,   32],\n",
       "       [-121, -108,   26,   39],\n",
       "       [  32,   46,   32,   46],\n",
       "       [-108,  -93,   39,   54],\n",
       "       [  46,   63,   46,   -1],\n",
       "       [   8,   16,   -1, -131],\n",
       "       [  12,   21,   12,   21],\n",
       "       [  16,   26, -131, -121],\n",
       "       [  21,   32,   21,   32],\n",
       "       [  26,   39, -121, -108],\n",
       "       [  32,   46,   32,   46],\n",
       "       [  39,   54, -108,  -93],\n",
       "       [  46,   63,   46,   63],\n",
       "       [  54,   73,  -93,   -1],\n",
       "       [  12,   21,   -1,   21],\n",
       "       [-131, -121,   16,   26],\n",
       "       [  21,   32,   21,   32],\n",
       "       [-121, -108,   26,   39],\n",
       "       [  32,   46,   32,   46],\n",
       "       [-108,  -93,   39,   54],\n",
       "       [  46,   63,   46,   63],\n",
       "       [ -90,  -97,   54,   73],\n",
       "       [  63,   84,   63,   -1],\n",
       "       [  16,   26,   -1, -121],\n",
       "       [  21,   32,   21,   32],\n",
       "       [  26,   39, -121, -108],\n",
       "       [  32,   46,   32,   46],\n",
       "       [  39,   54, -108,  -93],\n",
       "       [  46,   63,   46,   63],\n",
       "       [  54,   73,  -93,  -97],\n",
       "       [   0,    0,    0,    0],\n",
       "       [  73,   97,  -97,   -1],\n",
       "       [  21,   -1,   -1,   32],\n",
       "       [-121,   -1,   26,   39],\n",
       "       [  32,   -1,   32,   46],\n",
       "       [-108,   -1,   39,   54],\n",
       "       [  46,   -1,   46,   63],\n",
       "       [ -93,   -1,   54,   73],\n",
       "       [  63,   -1,   63,   84],\n",
       "       [ -97,   -1,   73,   97],\n",
       "       [   0,   -1,    0,   -1]])"
      ]
     },
     "execution_count": 11,
     "metadata": {},
     "output_type": "execute_result"
    }
   ],
   "source": [
    "q_matrix"
   ]
  },
  {
   "cell_type": "markdown",
   "metadata": {},
   "source": [
    "## ============== Don't Touch ================"
   ]
  },
  {
   "cell_type": "code",
   "execution_count": 12,
   "metadata": {
    "collapsed": false
   },
   "outputs": [
    {
     "data": {
      "text/plain": [
       "['qMatrix_9by9_manhattan_blocks.pkl',\n",
       " 'qMatrix_9by9_manhattan_blocks.pkl_01.npy']"
      ]
     },
     "execution_count": 12,
     "metadata": {},
     "output_type": "execute_result"
    }
   ],
   "source": [
    "joblib.dump(q_matrix, 'qMatrix_9by9_manhattan_blocks.pkl')"
   ]
  },
  {
   "cell_type": "code",
   "execution_count": 13,
   "metadata": {
    "collapsed": true
   },
   "outputs": [],
   "source": [
    "q_matrix_load = joblib.load('qMatrix_9by9_manhattan_blocks.pkl')"
   ]
  },
  {
   "cell_type": "code",
   "execution_count": 14,
   "metadata": {
    "collapsed": false
   },
   "outputs": [
    {
     "data": {
      "text/plain": [
       "81"
      ]
     },
     "execution_count": 14,
     "metadata": {},
     "output_type": "execute_result"
    }
   ],
   "source": [
    "len(q_matrix_load)"
   ]
  },
  {
   "cell_type": "code",
   "execution_count": 15,
   "metadata": {
    "collapsed": false
   },
   "outputs": [],
   "source": [
    "def makeMoveMatrix(q_matrix):\n",
    "    \n",
    "    actionAbbr = ['U','D','L','R']\n",
    "    movementGrid = []\n",
    "\n",
    "    for i in range(row_max+1):\n",
    "        #x = q_matrix[i*5 : i*5+5].flatten()\n",
    "        x = q_matrix[i*num_rows : i*num_rows+num_rows].flatten()\n",
    "        row = []\n",
    "        for j in range(col_max+1):\n",
    "            row.append(actionAbbr[np.argmax(x[j*4:j*4+4])])\n",
    "        movementGrid.append(row)\n",
    "    moveMatrix = np.array(movementGrid)\n",
    "    \n",
    "    #putting in the wall, pos and neg states\n",
    "    for wallState in wallStateMatrix:\n",
    "        moveMatrix[wallState] = 'X'\n",
    "    moveMatrix[posState] = '+'\n",
    "    moveMatrix[negState] = '-'\n",
    "    \n",
    "    return moveMatrix"
   ]
  },
  {
   "cell_type": "code",
   "execution_count": 37,
   "metadata": {
    "collapsed": false
   },
   "outputs": [
    {
     "data": {
      "text/plain": [
       "array([['D', 'D', 'R', 'R', 'D', 'D', 'X'],\n",
       "       ['R', 'D', 'U', 'X', 'R', 'D', 'D'],\n",
       "       ['X', 'D', 'X', 'D', 'X', 'D', 'L'],\n",
       "       ['R', 'R', 'R', 'D', 'R', 'D', 'X'],\n",
       "       ['U', 'U', 'X', 'D', 'X', 'D', 'L'],\n",
       "       ['U', 'U', 'X', 'D', 'X', 'D', '-'],\n",
       "       ['X', 'U', 'X', 'R', 'R', 'R', '+']], \n",
       "      dtype='<U1')"
      ]
     },
     "execution_count": 37,
     "metadata": {},
     "output_type": "execute_result"
    }
   ],
   "source": [
    "makeMoveMatrix(q_matrix_load)"
   ]
  },
  {
   "cell_type": "code",
   "execution_count": 16,
   "metadata": {
    "collapsed": false
   },
   "outputs": [
    {
     "data": {
      "text/plain": [
       "[(8, 8),\n",
       " (7, 7),\n",
       " [(1, 1),\n",
       "  (1, 3),\n",
       "  (1, 5),\n",
       "  (1, 7),\n",
       "  (3, 1),\n",
       "  (3, 3),\n",
       "  (3, 5),\n",
       "  (3, 7),\n",
       "  (5, 1),\n",
       "  (5, 3),\n",
       "  (5, 5),\n",
       "  (5, 7),\n",
       "  (7, 1),\n",
       "  (7, 3),\n",
       "  (7, 5)]]"
      ]
     },
     "execution_count": 16,
     "metadata": {},
     "output_type": "execute_result"
    }
   ],
   "source": [
    "posNegWallState = [posState, negState, wallStateMatrix]\n",
    "posNegWallState"
   ]
  },
  {
   "cell_type": "code",
   "execution_count": 17,
   "metadata": {
    "collapsed": false
   },
   "outputs": [
    {
     "data": {
      "text/plain": [
       "['posNegWallState_9by9_manhattan_block.pkl']"
      ]
     },
     "execution_count": 17,
     "metadata": {},
     "output_type": "execute_result"
    }
   ],
   "source": [
    "joblib.dump(posNegWallState, 'posNegWallState_9by9_manhattan_block.pkl')"
   ]
  },
  {
   "cell_type": "code",
   "execution_count": 18,
   "metadata": {
    "collapsed": true
   },
   "outputs": [],
   "source": [
    "posNegWall_load = joblib.load('posNegWallState_9by9_manhattan_block.pkl')"
   ]
  },
  {
   "cell_type": "code",
   "execution_count": 19,
   "metadata": {
    "collapsed": false
   },
   "outputs": [
    {
     "data": {
      "text/plain": [
       "[(8, 8),\n",
       " (7, 7),\n",
       " [(1, 1),\n",
       "  (1, 3),\n",
       "  (1, 5),\n",
       "  (1, 7),\n",
       "  (3, 1),\n",
       "  (3, 3),\n",
       "  (3, 5),\n",
       "  (3, 7),\n",
       "  (5, 1),\n",
       "  (5, 3),\n",
       "  (5, 5),\n",
       "  (5, 7),\n",
       "  (7, 1),\n",
       "  (7, 3),\n",
       "  (7, 5)]]"
      ]
     },
     "execution_count": 19,
     "metadata": {},
     "output_type": "execute_result"
    }
   ],
   "source": [
    "posNegWall_load"
   ]
  },
  {
   "cell_type": "code",
   "execution_count": null,
   "metadata": {
    "collapsed": true
   },
   "outputs": [],
   "source": []
  }
 ],
 "metadata": {
  "kernelspec": {
   "display_name": "Python 3",
   "language": "python",
   "name": "python3"
  },
  "language_info": {
   "codemirror_mode": {
    "name": "ipython",
    "version": 3
   },
   "file_extension": ".py",
   "mimetype": "text/x-python",
   "name": "python",
   "nbconvert_exporter": "python",
   "pygments_lexer": "ipython3",
   "version": "3.4.3"
  }
 },
 "nbformat": 4,
 "nbformat_minor": 0
}
