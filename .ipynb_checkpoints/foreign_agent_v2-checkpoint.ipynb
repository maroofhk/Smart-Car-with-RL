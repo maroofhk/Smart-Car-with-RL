{
 "cells": [
  {
   "cell_type": "markdown",
   "metadata": {},
   "source": [
    "1. Given a state, get values for states [up,down,left,right] from it\n",
    "2. change the row numbers"
   ]
  },
  {
   "cell_type": "code",
   "execution_count": 1,
   "metadata": {
    "collapsed": true
   },
   "outputs": [],
   "source": [
    "import numpy as np\n",
    "import random\n",
    "\n",
    "from sklearn.externals import joblib"
   ]
  },
  {
   "cell_type": "code",
   "execution_count": 2,
   "metadata": {
    "collapsed": false
   },
   "outputs": [],
   "source": [
    "q_matrix_load = joblib.load('qMatrix_7by7_no_walls.pkl')"
   ]
  },
  {
   "cell_type": "code",
   "execution_count": 4,
   "metadata": {
    "collapsed": false
   },
   "outputs": [],
   "source": [
    "posState = (6,6)\n",
    "negState = (5,5)"
   ]
  },
  {
   "cell_type": "code",
   "execution_count": 39,
   "metadata": {
    "collapsed": true
   },
   "outputs": [],
   "source": [
    "num_rows = 7\n",
    "num_cols = 7\n",
    "col_max = num_cols - 1\n",
    "row_max = num_rows - 1\n",
    "\n",
    "def makeMoveMatrix(q_matrix):\n",
    "    \n",
    "    actionAbbr = ['U','D','L','R']\n",
    "    movementGrid = []\n",
    "\n",
    "    for i in range(row_max+1):\n",
    "        #x = q_matrix[i*5 : i*5+5].flatten()\n",
    "        x = q_matrix[i*num_rows : i*num_rows+num_cols].flatten()\n",
    "        row = []\n",
    "        for j in range(col_max+1):\n",
    "            singleState = x[j*4 : j*4+4]\n",
    "            qMax = np.max(singleState)\n",
    "            indices = np.argwhere(singleState == qMax)\n",
    "            row.append(actionAbbr[np.random.choice(indices.flatten())])\n",
    "            #row.append(actionAbbr[np.argmax(x[j*4:j*4+4])])\n",
    "        movementGrid.append(row)\n",
    "    moveMatrix = np.array(movementGrid)\n",
    "    \n",
    "    #putting in pos and neg states\n",
    "    moveMatrix[posState] = '+'\n",
    "    moveMatrix[negState] = '-'\n",
    "    \n",
    "    return moveMatrix"
   ]
  },
  {
   "cell_type": "code",
   "execution_count": 40,
   "metadata": {
    "collapsed": false
   },
   "outputs": [
    {
     "data": {
      "text/plain": [
       "array([['R', 'D', 'R', 'R', 'D', 'R', 'D'],\n",
       "       ['D', 'R', 'D', 'D', 'D', 'D', 'D'],\n",
       "       ['R', 'R', 'R', 'D', 'R', 'R', 'D'],\n",
       "       ['D', 'D', 'R', 'D', 'D', 'D', 'D'],\n",
       "       ['D', 'D', 'D', 'R', 'D', 'R', 'D'],\n",
       "       ['R', 'R', 'R', 'R', 'D', '-', 'D'],\n",
       "       ['R', 'R', 'R', 'R', 'R', 'R', '+']], \n",
       "      dtype='<U1')"
      ]
     },
     "execution_count": 40,
     "metadata": {},
     "output_type": "execute_result"
    }
   ],
   "source": [
    "moveMatrix = makeMoveMatrix(q_matrix_load)\n",
    "moveMatrix"
   ]
  },
  {
   "cell_type": "code",
   "execution_count": 41,
   "metadata": {
    "collapsed": false
   },
   "outputs": [],
   "source": [
    "qMinValue = np.min(q_matrix_load)\n",
    "police = [qMinValue]*4"
   ]
  },
  {
   "cell_type": "code",
   "execution_count": 42,
   "metadata": {
    "collapsed": false
   },
   "outputs": [
    {
     "data": {
      "text/plain": [
       "[-97, -97, -97, -97]"
      ]
     },
     "execution_count": 42,
     "metadata": {},
     "output_type": "execute_result"
    }
   ],
   "source": [
    "police"
   ]
  },
  {
   "cell_type": "code",
   "execution_count": 44,
   "metadata": {
    "collapsed": false
   },
   "outputs": [],
   "source": [
    "row_max = 6\n",
    "col_max = 6\n",
    "\n",
    "def actionsAvailable(state, row_max, col_max):\n",
    "    row, col = state\n",
    "    directions = [-1,-1,-1,-1]\n",
    "    if row < row_max: directions[1] = 0\n",
    "    if row > 0: directions[0] = 0\n",
    "    if col < col_max: directions[3] = 0\n",
    "    if col > 0: directions[2] = 0\n",
    "    return directions\n",
    "\n",
    "def get_qMatrix_rowNum(state):\n",
    "    return int((col_max + 1)*state[0] + state[1])\n",
    "\n",
    "def neighbourStates(state):\n",
    "    '''\n",
    "    - Depending on 'state' we will get the one [above_it, below_it, left_of_it, on_its_right]\n",
    "    - if no such state exists we will get -1\n",
    "    - example:\n",
    "      neighbourStates((0,0)) ==> [-1, (1, 0), -1, (0, 1)]\n",
    "    '''\n",
    "    neighbours = actionsAvailable(state, row_max, col_max)\n",
    "    if neighbours[0] != -1:\n",
    "        neighbours[0] = (state[0]-1, state[1])\n",
    "    if neighbours[1] != -1:\n",
    "        neighbours[1] = (state[0]+1, state[1])\n",
    "    if neighbours[2] != -1:\n",
    "        neighbours[2] = (state[0], state[1]-1)\n",
    "    if neighbours[3] != -1:\n",
    "        neighbours[3] = (state[0], state[1]+1)\n",
    "    \n",
    "    return neighbours\n",
    "\n",
    "def update_qMatrix(state, q_matrix):\n",
    "    q_temp = np.array(q_matrix, copy=True) \n",
    "    actionIndex = [1,0,3,2]\n",
    "    policeNeighbours = neighbourStates(state)\n",
    "    #print('index - state at index - q_matrix row num - q_matrix row')\n",
    "    for index, val in enumerate(policeNeighbours):\n",
    "        if val != -1:\n",
    "            q_matrix_row = get_qMatrix_rowNum(val)\n",
    "            q_temp[q_matrix_row, actionIndex[index]] = np.min(q_temp)\n",
    "            #print(index, '-', val, '-', get_qMatrix_rowNum(val), '-', q_matrix[get_qMatrix_rowNum(val)])\n",
    "            \n",
    "    return q_temp"
   ]
  },
  {
   "cell_type": "code",
   "execution_count": 45,
   "metadata": {
    "collapsed": false
   },
   "outputs": [
    {
     "name": "stdout",
     "output_type": "stream",
     "text": [
      "[['D' 'D' 'R' 'D' 'R' 'R' 'D']\n",
      " ['R' 'D' 'R' 'D' 'D' 'R' 'D']\n",
      " ['D' 'R' 'R' 'D' 'R' 'D' 'D']\n",
      " ['R' 'R' 'R' 'D' 'D' 'D' 'D']\n",
      " ['D' 'D' 'R' 'R' 'D' 'R' 'D']\n",
      " ['R' 'R' 'R' 'D' 'D' '-' 'D']\n",
      " ['R' 'R' 'R' 'R' 'R' 'R' '+']]\n",
      "\n",
      "\n",
      "[['R' 'D' 'D' 'D' 'D' 'R' 'D']\n",
      " ['R' 'R' 'D' 'R' 'R' 'R' 'D']\n",
      " ['R' 'D' 'D' 'D' 'D' 'R' 'D']\n",
      " ['D' 'R' 'D' 'D' 'R' 'D' 'D']\n",
      " ['R' 'R' 'D' 'R' 'R' 'R' 'D']\n",
      " ['R' 'R' 'D' 'D' 'D' '-' 'D']\n",
      " ['R' 'R' 'R' 'R' 'R' 'R' '+']]\n"
     ]
    }
   ],
   "source": [
    "print(makeMoveMatrix(q_matrix_load))\n",
    "print('\\n')\n",
    "new_q_matrix = update_qMatrix((0,2), q_matrix_load)\n",
    "print(makeMoveMatrix(new_q_matrix))"
   ]
  },
  {
   "cell_type": "markdown",
   "metadata": {},
   "source": [
    "### Now what will be interesting is to get trail to destination no matter where the police is"
   ]
  },
  {
   "cell_type": "code",
   "execution_count": 64,
   "metadata": {
    "collapsed": false
   },
   "outputs": [],
   "source": [
    "# for make a breadcrumb matrix\n",
    "def createTrail():\n",
    "    emptyStrRow = [' ']*num_cols\n",
    "    trailLst = []\n",
    "    for _ in range(7):\n",
    "        trailLst.append(emptyStrRow)\n",
    "        \n",
    "    trail = np.array(trailLst)\n",
    "    trail[posState] = '+'\n",
    "    trail[negState] = '-'\n",
    "    return trail\n",
    "\n",
    "def breadcrumb(policeState):\n",
    "    state = (0,0)\n",
    "    breadCrumb = [state]\n",
    "    \n",
    "    trail = createTrail()\n",
    "    trail[state] = '@'\n",
    "    trail[policeState] = '#'\n",
    "    \n",
    "    new_q_matrix = update_qMatrix(policeState, q_matrix_load)\n",
    "    \n",
    "    while state != posState:\n",
    "        \n",
    "        direction = makeMoveMatrix(new_q_matrix)[state]\n",
    "        if direction == 'U': state = (state[0]-1, state[1])\n",
    "        if direction == 'D': state = (state[0]+1, state[1])\n",
    "        if direction == 'L': state = (state[0], state[1]-1)\n",
    "        if direction == 'R': state = (state[0], state[1]+1)\n",
    "        \n",
    "        breadCrumb.append(state)\n",
    "    \n",
    "    for element in breadCrumb[1:-1]:\n",
    "        trail[element] = '*'\n",
    "        \n",
    "    return trail, breadCrumb"
   ]
  },
  {
   "cell_type": "code",
   "execution_count": 65,
   "metadata": {
    "collapsed": false
   },
   "outputs": [
    {
     "data": {
      "text/plain": [
       "(array([['@', ' ', ' ', ' ', ' ', ' ', ' '],\n",
       "        ['*', '*', ' ', ' ', ' ', ' ', ' '],\n",
       "        [' ', '*', '*', ' ', ' ', ' ', ' '],\n",
       "        [' ', ' ', '*', '*', '*', ' ', ' '],\n",
       "        [' ', ' ', ' ', ' ', '*', '*', '*'],\n",
       "        [' ', ' ', ' ', ' ', ' ', '-', '*'],\n",
       "        ['#', ' ', ' ', ' ', ' ', ' ', '+']], \n",
       "       dtype='<U1'),\n",
       " [(0, 0),\n",
       "  (1, 0),\n",
       "  (1, 1),\n",
       "  (2, 1),\n",
       "  (2, 2),\n",
       "  (3, 2),\n",
       "  (3, 3),\n",
       "  (3, 4),\n",
       "  (4, 4),\n",
       "  (4, 5),\n",
       "  (4, 6),\n",
       "  (5, 6),\n",
       "  (6, 6)])"
      ]
     },
     "execution_count": 65,
     "metadata": {},
     "output_type": "execute_result"
    }
   ],
   "source": [
    "breadcrumb((6,0))"
   ]
  },
  {
   "cell_type": "code",
   "execution_count": 38,
   "metadata": {
    "collapsed": false
   },
   "outputs": [
    {
     "name": "stdout",
     "output_type": "stream",
     "text": [
      "[['@' ' ' ' ' ' ' ' ' ' ' '#']\n",
      " ['*' ' ' ' ' ' ' ' ' ' ' ' ']\n",
      " ['*' '*' ' ' ' ' ' ' ' ' ' ']\n",
      " [' ' '*' '*' ' ' ' ' ' ' ' ']\n",
      " [' ' ' ' '*' '*' ' ' ' ' ' ']\n",
      " [' ' ' ' ' ' '*' ' ' '-' ' ']\n",
      " [' ' ' ' ' ' '*' '*' '*' '+']]\n",
      "\n",
      "\n",
      "[['@' '*' ' ' ' ' ' ' ' ' ' ']\n",
      " [' ' '*' '*' '*' ' ' ' ' '#']\n",
      " [' ' ' ' ' ' '*' '*' '*' '*']\n",
      " [' ' ' ' ' ' ' ' ' ' ' ' '*']\n",
      " [' ' ' ' ' ' ' ' ' ' ' ' '*']\n",
      " [' ' ' ' ' ' ' ' ' ' '-' '*']\n",
      " [' ' ' ' ' ' ' ' ' ' ' ' '+']]\n",
      "\n",
      "\n",
      "[['@' ' ' ' ' ' ' ' ' ' ' ' ']\n",
      " ['*' ' ' ' ' ' ' ' ' ' ' ' ']\n",
      " ['*' ' ' ' ' ' ' ' ' ' ' '#']\n",
      " ['*' ' ' ' ' ' ' ' ' ' ' ' ']\n",
      " ['*' ' ' ' ' ' ' ' ' ' ' ' ']\n",
      " ['*' '*' ' ' ' ' ' ' '-' ' ']\n",
      " [' ' '*' '*' '*' '*' '*' '+']]\n",
      "\n",
      "\n",
      "[['@' ' ' ' ' ' ' ' ' ' ' ' ']\n",
      " ['*' '*' ' ' ' ' ' ' ' ' ' ']\n",
      " [' ' '*' '*' '*' '*' '*' ' ']\n",
      " [' ' ' ' ' ' ' ' ' ' '*' '#']\n",
      " [' ' ' ' ' ' ' ' ' ' '*' '*']\n",
      " [' ' ' ' ' ' ' ' ' ' '-' '*']\n",
      " [' ' ' ' ' ' ' ' ' ' ' ' '+']]\n",
      "\n",
      "\n",
      "[['@' ' ' ' ' ' ' ' ' ' ' ' ']\n",
      " ['*' ' ' ' ' ' ' ' ' ' ' ' ']\n",
      " ['*' ' ' ' ' ' ' ' ' ' ' ' ']\n",
      " ['*' '*' '*' '*' '*' ' ' ' ']\n",
      " [' ' ' ' ' ' ' ' '*' '*' '#']\n",
      " [' ' ' ' ' ' ' ' '*' '-' ' ']\n",
      " [' ' ' ' ' ' ' ' '*' '*' '+']]\n",
      "\n",
      "\n",
      "[['@' ' ' ' ' ' ' ' ' ' ' ' ']\n",
      " ['*' ' ' ' ' ' ' ' ' ' ' ' ']\n",
      " ['*' '*' '*' ' ' ' ' ' ' ' ']\n",
      " [' ' ' ' '*' '*' ' ' ' ' ' ']\n",
      " [' ' ' ' ' ' '*' ' ' ' ' ' ']\n",
      " [' ' ' ' ' ' '*' ' ' '-' '#']\n",
      " [' ' ' ' ' ' '*' '*' '*' '+']]\n",
      "\n",
      "\n"
     ]
    }
   ],
   "source": [
    "for i in range(6):\n",
    "    print(breadcrumb((i,6)))\n",
    "    print('\\n')"
   ]
  },
  {
   "cell_type": "code",
   "execution_count": null,
   "metadata": {
    "collapsed": true
   },
   "outputs": [],
   "source": []
  }
 ],
 "metadata": {
  "kernelspec": {
   "display_name": "Python 3",
   "language": "python",
   "name": "python3"
  },
  "language_info": {
   "codemirror_mode": {
    "name": "ipython",
    "version": 3
   },
   "file_extension": ".py",
   "mimetype": "text/x-python",
   "name": "python",
   "nbconvert_exporter": "python",
   "pygments_lexer": "ipython3",
   "version": "3.4.3"
  }
 },
 "nbformat": 4,
 "nbformat_minor": 0
}
