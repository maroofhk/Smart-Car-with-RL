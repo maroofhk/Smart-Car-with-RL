{
 "cells": [
  {
   "cell_type": "code",
   "execution_count": 1,
   "metadata": {
    "collapsed": true
   },
   "outputs": [],
   "source": [
    "import numpy as np"
   ]
  },
  {
   "cell_type": "code",
   "execution_count": 2,
   "metadata": {
    "collapsed": false
   },
   "outputs": [
    {
     "name": "stdout",
     "output_type": "stream",
     "text": [
      "reward matrix shape:  (6, 6)\n"
     ]
    },
    {
     "data": {
      "text/plain": [
       "matrix([[ -1,  -1,  -1,  -1,   0,  -1],\n",
       "        [ -1,  -1,  -1,   0,  -1, 100],\n",
       "        [ -1,  -1,  -1,   0,  -1,  -1],\n",
       "        [ -1,   0,   0,  -1,   0,  -1],\n",
       "        [  0,  -1,  -1,   0,  -1, 100],\n",
       "        [ -1,   0,  -1,  -1,   0, 100]])"
      ]
     },
     "execution_count": 2,
     "metadata": {},
     "output_type": "execute_result"
    }
   ],
   "source": [
    "r_matrix = np.matrix('''-1 -1 -1 -1 0 -1;\n",
    "                        -1 -1 -1 0 -1 100; \n",
    "                        -1 -1 -1 0 -1 -1; \n",
    "                        -1 0 0 -1 0 -1; \n",
    "                        0 -1 -1 0 -1 100; \n",
    "                        -1 0 -1 -1 0 100''')\n",
    "\n",
    "print('reward matrix shape: ', r_matrix.shape)\n",
    "r_matrix"
   ]
  },
  {
   "cell_type": "code",
   "execution_count": 3,
   "metadata": {
    "collapsed": false
   },
   "outputs": [
    {
     "data": {
      "text/plain": [
       "(6, 6)"
      ]
     },
     "execution_count": 3,
     "metadata": {},
     "output_type": "execute_result"
    }
   ],
   "source": [
    "r_matrix.shape"
   ]
  },
  {
   "cell_type": "code",
   "execution_count": 4,
   "metadata": {
    "collapsed": false
   },
   "outputs": [
    {
     "name": "stdout",
     "output_type": "stream",
     "text": [
      "q matrix shape:  (6, 6)\n"
     ]
    },
    {
     "data": {
      "text/plain": [
       "array([[0, 0, 0, 0, 0, 0],\n",
       "       [0, 0, 0, 0, 0, 0],\n",
       "       [0, 0, 0, 0, 0, 0],\n",
       "       [0, 0, 0, 0, 0, 0],\n",
       "       [0, 0, 0, 0, 0, 0],\n",
       "       [0, 0, 0, 0, 0, 0]])"
      ]
     },
     "execution_count": 4,
     "metadata": {},
     "output_type": "execute_result"
    }
   ],
   "source": [
    "q_matrix = np.zeros((6,6), dtype=np.int)\n",
    "\n",
    "print('q matrix shape: ', q_matrix.shape)\n",
    "q_matrix"
   ]
  },
  {
   "cell_type": "code",
   "execution_count": 5,
   "metadata": {
    "collapsed": false
   },
   "outputs": [],
   "source": [
    "gamma = 0.8\n",
    "initial_state = 1"
   ]
  },
  {
   "cell_type": "code",
   "execution_count": 25,
   "metadata": {
    "collapsed": false
   },
   "outputs": [
    {
     "name": "stdout",
     "output_type": "stream",
     "text": [
      "indices:  [[0 3]\n",
      " [0 5]]\n"
     ]
    }
   ],
   "source": [
    "def positiveRewards(state):\n",
    "    '''\n",
    "    - given a state we should spit out the states not -1\n",
    "    - we should also keep a note of the indices of above numbers\n",
    "    - after getting the indices we \n",
    "    '''\n",
    "    # for state=1 ==> matrix([[ -1,  -1,  -1,   0,  -1, 100]])\n",
    "    # output dimension of this is 2\n",
    "    matrixListForChosenState = r_matrix[state]\n",
    "    \n",
    "    # for the above matrix output is\n",
    "    # array([[0, 3],\n",
    "    #       [0, 5]], dtype=int32), you can see 3rd and 5th element of 0th row are the >-1 values\n",
    "    indices = np.argwhere(matrixListForChosenState > -1)\n",
    "\n",
    "    return indices\n",
    "\n",
    "indices = positiveRewards(initial_state)\n",
    "print('indices: ', indices)"
   ]
  },
  {
   "cell_type": "code",
   "execution_count": 26,
   "metadata": {
    "collapsed": false
   },
   "outputs": [
    {
     "data": {
      "text/plain": [
       "5"
      ]
     },
     "execution_count": 26,
     "metadata": {},
     "output_type": "execute_result"
    }
   ],
   "source": [
    "actionChosen = indices[np.random.choice(range(len(indices)))][1]\n",
    "actionChosen"
   ]
  },
  {
   "cell_type": "code",
   "execution_count": 27,
   "metadata": {
    "collapsed": false
   },
   "outputs": [
    {
     "data": {
      "text/plain": [
       "100"
      ]
     },
     "execution_count": 27,
     "metadata": {},
     "output_type": "execute_result"
    }
   ],
   "source": [
    "reward = r_matrix[initial_state, actionChosen]\n",
    "reward"
   ]
  },
  {
   "cell_type": "code",
   "execution_count": 28,
   "metadata": {
    "collapsed": false
   },
   "outputs": [
    {
     "data": {
      "text/plain": [
       "array([[0, 1],\n",
       "       [0, 4],\n",
       "       [0, 5]], dtype=int32)"
      ]
     },
     "execution_count": 28,
     "metadata": {},
     "output_type": "execute_result"
    }
   ],
   "source": [
    "arrayOfNextStates = positiveRewards(actionChosen)\n",
    "arrayOfNextStates"
   ]
  },
  {
   "cell_type": "code",
   "execution_count": 30,
   "metadata": {
    "collapsed": false
   },
   "outputs": [
    {
     "data": {
      "text/plain": [
       "0"
      ]
     },
     "execution_count": 30,
     "metadata": {},
     "output_type": "execute_result"
    }
   ],
   "source": [
    "def qValuesForOtherState(actionChosen, arrayOfNextStates):\n",
    "    qValues = []\n",
    "    for element in arrayOfNextStates[:,1]:\n",
    "        qValues.append(q_matrix[actionChosen, element])\n",
    "        \n",
    "    return np.max(qValues)\n",
    "\n",
    "qMax = qValuesForOtherState(actionChosen, arrayOfNextStates)\n",
    "qMax"
   ]
  },
  {
   "cell_type": "markdown",
   "metadata": {},
   "source": [
    "## Do not run the next Line or section 2 will not work"
   ]
  },
  {
   "cell_type": "code",
   "execution_count": 31,
   "metadata": {
    "collapsed": false,
    "scrolled": true
   },
   "outputs": [
    {
     "data": {
      "text/plain": [
       "array([[  0,   0,   0,   0,   0,   0],\n",
       "       [  0,   0,   0,   0,   0, 100],\n",
       "       [  0,   0,   0,   0,   0,   0],\n",
       "       [  0,  80,   0,   0,   0,   0],\n",
       "       [  0,   0,   0,   0,   0,   0],\n",
       "       [  0,   0,   0,   0,   0,   0]])"
      ]
     },
     "execution_count": 31,
     "metadata": {},
     "output_type": "execute_result"
    }
   ],
   "source": [
    "q_matrix[initial_state, actionChosen] = reward + gamma*qMax\n",
    "q_matrix"
   ]
  },
  {
   "cell_type": "markdown",
   "metadata": {},
   "source": [
    "# Part 2"
   ]
  },
  {
   "cell_type": "markdown",
   "metadata": {},
   "source": [
    "### This section is a condensed version of procedure above"
   ]
  },
  {
   "cell_type": "code",
   "execution_count": 1,
   "metadata": {
    "collapsed": true
   },
   "outputs": [],
   "source": [
    "import numpy as np"
   ]
  },
  {
   "cell_type": "code",
   "execution_count": 2,
   "metadata": {
    "collapsed": true
   },
   "outputs": [],
   "source": [
    "r_matrix = np.matrix('''-1 -1 -1 -1 0 -1;\n",
    "                        -1 -1 -1 0 -1 100; \n",
    "                        -1 -1 -1 0 -1 -1; \n",
    "                        -1 0 0 -1 0 -1; \n",
    "                        0 -1 -1 0 -1 100; \n",
    "                        -1 0 -1 -1 0 100''')\n",
    "\n",
    "q_matrix = np.zeros((6,6), dtype=np.int)\n",
    "\n",
    "def positiveRewards(state):\n",
    "    '''\n",
    "    - given a state we should spit out the states not -1\n",
    "    - we should also keep a note of the indices of above numbers\n",
    "    - after getting the indices we \n",
    "    '''\n",
    "    # for state=1 ==> matrix([[ -1,  -1,  -1,   0,  -1, 100]])\n",
    "    # output dimension of this is 2\n",
    "    matrixListForChosenState = r_matrix[state]\n",
    "    \n",
    "    # for the above matrix output is\n",
    "    # array([[0, 3],\n",
    "    #       [0, 5]], dtype=int32), you can see 3rd and 5th element of 0th row are the >-1 values\n",
    "    indices = np.argwhere(matrixListForChosenState > -1)\n",
    "\n",
    "    return indices\n",
    "\n",
    "def qValuesForOtherState(actionChosen, arrayOfNextStates):\n",
    "    qValues = []\n",
    "    for element in arrayOfNextStates[:,1]:\n",
    "        qValues.append(q_matrix[actionChosen, element])\n",
    "        \n",
    "    return np.max(qValues)"
   ]
  },
  {
   "cell_type": "code",
   "execution_count": 3,
   "metadata": {
    "collapsed": false
   },
   "outputs": [],
   "source": [
    "def q_update(initial_state, q_matrix):\n",
    "    indices = positiveRewards(initial_state)\n",
    "    actionChosen = indices[np.random.choice(range(len(indices)))][1]\n",
    "    reward = r_matrix[initial_state, actionChosen]\n",
    "    arrayOfNextStates = positiveRewards(actionChosen)\n",
    "    q_matrix[initial_state, actionChosen] = reward + gamma * qValuesForOtherState(actionChosen, arrayOfNextStates)\n",
    "    return indices, actionChosen, reward, arrayOfNextStates, q_matrix"
   ]
  },
  {
   "cell_type": "code",
   "execution_count": 5,
   "metadata": {
    "collapsed": true
   },
   "outputs": [],
   "source": [
    "gamma = 0.8\n",
    "initial_state = 1"
   ]
  },
  {
   "cell_type": "code",
   "execution_count": 7,
   "metadata": {
    "collapsed": false
   },
   "outputs": [],
   "source": [
    "def episode(initial_state):\n",
    "    while initial_state != 5:    \n",
    "        _, actionChosen, _, _, _ = q_update(initial_state, q_matrix)\n",
    "        initial_state = actionChosen\n",
    "    return q_matrix"
   ]
  },
  {
   "cell_type": "code",
   "execution_count": 12,
   "metadata": {
    "collapsed": false
   },
   "outputs": [],
   "source": [
    "for i in range(6):\n",
    "    for _ in range(500):\n",
    "        episode(i)"
   ]
  },
  {
   "cell_type": "code",
   "execution_count": 15,
   "metadata": {
    "collapsed": false
   },
   "outputs": [
    {
     "data": {
      "text/plain": [
       "array([[  0,   0,   0,   0,  80,   0],\n",
       "       [  0,   0,   0,  64,   0, 100],\n",
       "       [  0,   0,   0,  64,   0,   0],\n",
       "       [  0,  80,  51,   0,  80,   0],\n",
       "       [ 64,   0,   0,  64,   0, 100],\n",
       "       [  0,   0,   0,   0,   0,   0]])"
      ]
     },
     "execution_count": 15,
     "metadata": {},
     "output_type": "execute_result"
    }
   ],
   "source": [
    "q_matrix"
   ]
  },
  {
   "cell_type": "code",
   "execution_count": 45,
   "metadata": {
    "collapsed": false
   },
   "outputs": [
    {
     "data": {
      "text/plain": [
       "[2, 3, 1, 5]"
      ]
     },
     "execution_count": 45,
     "metadata": {},
     "output_type": "execute_result"
    }
   ],
   "source": [
    "def pathToReward(start_index, q_matrix_input):\n",
    "    path = [start_index]\n",
    "    while start_index != 5:\n",
    "        arg = np.argwhere(q_matrix_input[start_index] == np.max(q_matrix_input[start_index]))\n",
    "        new_index = arg.tolist()[0][0]\n",
    "        path.append(new_index)\n",
    "        start_index = new_index\n",
    "    return path\n",
    "    \n",
    "pathToReward(2, q_matrix)"
   ]
  },
  {
   "cell_type": "markdown",
   "metadata": {},
   "source": [
    "#### This section is for testing the output"
   ]
  },
  {
   "cell_type": "code",
   "execution_count": 5,
   "metadata": {
    "collapsed": false
   },
   "outputs": [
    {
     "name": "stdout",
     "output_type": "stream",
     "text": [
      "indices:  [[0 1]\n",
      " [0 2]\n",
      " [0 4]]\n",
      "action chosen:  1\n",
      "reward:  0\n",
      "array of indices:  [[0 3]\n",
      " [0 5]]\n",
      "q_matrix:  [[0 0 0 0 0 0]\n",
      " [0 0 0 0 0 0]\n",
      " [0 0 0 0 0 0]\n",
      " [0 0 0 0 0 0]\n",
      " [0 0 0 0 0 0]\n",
      " [0 0 0 0 0 0]]\n"
     ]
    }
   ],
   "source": [
    "# indices, actionChosen, reward, arrayOfNextStates, q_matrix = q_update(initial_state, q_matrix)\n",
    "\n",
    "# print('indices: ', indices)\n",
    "# print('action chosen: ', actionChosen)\n",
    "# print('reward: ', reward)\n",
    "# print('array of indices: ', arrayOfNextStates)\n",
    "# print('q_matrix: ', q_matrix)"
   ]
  },
  {
   "cell_type": "code",
   "execution_count": null,
   "metadata": {
    "collapsed": true
   },
   "outputs": [],
   "source": []
  }
 ],
 "metadata": {
  "kernelspec": {
   "display_name": "Python 3",
   "language": "python",
   "name": "python3"
  },
  "language_info": {
   "codemirror_mode": {
    "name": "ipython",
    "version": 3
   },
   "file_extension": ".py",
   "mimetype": "text/x-python",
   "name": "python",
   "nbconvert_exporter": "python",
   "pygments_lexer": "ipython3",
   "version": "3.4.3"
  }
 },
 "nbformat": 4,
 "nbformat_minor": 0
}
